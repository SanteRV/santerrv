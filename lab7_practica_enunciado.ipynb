{
  "nbformat": 4,
  "nbformat_minor": 0,
  "metadata": {
    "colab": {
      "provenance": []
    },
    "kernelspec": {
      "name": "python3",
      "display_name": "Python 3"
    },
    "language_info": {
      "name": "python"
    }
  },
  "cells": [
    {
      "cell_type": "markdown",
      "source": [
        "# Laboratorio 7\n",
        "\n",
        "* Asuma que las operaciones no requieren alta precisión.\n",
        "* Presente su solución con el nombre `lab7_codigoPUCP.ipynb`"
      ],
      "metadata": {
        "id": "jWLG-fQQyBHr"
      }
    },
    {
      "cell_type": "code",
      "source": [
        "import numpy\n",
        "ns = 2**numpy.arange(5,15)"
      ],
      "metadata": {
        "id": "LBNjsAAOZIS_"
      },
      "execution_count": null,
      "outputs": []
    },
    {
      "cell_type": "markdown",
      "source": [
        "a) Implementar (en un único archivo) cuatro funciones en C que acumule el producto interno de dos arreglos números reales. Solo puede emplear un único bucle `for`. En la primera función realizar la acumulación elemento a elemento, en la segunda acumule en bloques de 2 elementos, en la tercera acumule en bloques de 4 elementos, y en la cuarta acumule en bloques de 8 elementos. (2.0 ptos)"
      ],
      "metadata": {
        "id": "_VA_viGEumDS"
      }
    },
    {
      "cell_type": "code",
      "source": [
        "%%file parte_a.c\n",
        "#include <stdio.h>\n",
        "#include <stdint.h>\n",
        "\n",
        "\n"
      ],
      "metadata": {
        "id": "GJflNjfH_Zs1"
      },
      "execution_count": null,
      "outputs": []
    },
    {
      "cell_type": "markdown",
      "source": [
        "b) Coloque el comando para generar la librería dinámica del ítem (a) y genere la librería dinámica. (0.25 ptos)"
      ],
      "metadata": {
        "id": "whVfWflcu-bG"
      }
    },
    {
      "cell_type": "markdown",
      "source": [
        "c) Implemente una función que vincule la librería dinámica generada en el ítem (b) con Python usando `ctypes`. La función no recibe argumentos y debe devolver las cuatro funciones configuradas listas para su uso. (0.5 ptos)"
      ],
      "metadata": {
        "id": "JrLT7QZMvPjV"
      }
    },
    {
      "cell_type": "markdown",
      "source": [
        "d) Haga una instancia de las cuatro funciones a partir de su función en el ítem (c) (0.25 ptos)"
      ],
      "metadata": {
        "id": "17rEz9ecviJF"
      }
    },
    {
      "cell_type": "markdown",
      "source": [
        "e) Pruebe todas sus funciones obtenidas en el ítem (d) para el menor de los valores de `ns` y la variable `Y`, y muestre que dan el mismo resultado. Completar la información para generar dos arreglos.(1.25 ptos)"
      ],
      "metadata": {
        "id": "HWb7efnuvr0d"
      }
    },
    {
      "cell_type": "code",
      "source": [
        "n = ns[0]\n",
        "a =\n",
        "b ="
      ],
      "metadata": {
        "id": "j9bn_AF-hJ6v"
      },
      "execution_count": null,
      "outputs": []
    },
    {
      "cell_type": "markdown",
      "source": [
        "f) Pruebe todas sus funciones obtenidas en el ítem (d) para el mayor de los valores de `ns` y la variable `Y`, y muestre que dan el mismo resultado. Completar nuevamente los arreglos a y b (1.25 ptos)"
      ],
      "metadata": {
        "id": "qIbQWXiXvyvI"
      }
    },
    {
      "cell_type": "code",
      "source": [
        "n = ns[-1]\n",
        "a =\n",
        "b ="
      ],
      "metadata": {
        "id": "bsEI6zaqhcF9"
      },
      "execution_count": null,
      "outputs": []
    },
    {
      "cell_type": "markdown",
      "source": [
        "g) Realice 50 mediciones de tiempo para todas sus funciones, y para todos los valores de `ns`. El valor representativo de las 50 mediciones será la mediana. (0.5 ptos)"
      ],
      "metadata": {
        "id": "1ITU2_n7xVFz"
      }
    },
    {
      "cell_type": "markdown",
      "source": [
        "h) Presente una gráfica en la que muestre como varía el tiempo de ejecución respecto del valor de `ns`. Solo para los cinco primeros valores de `ns`. (0.25 ptos)"
      ],
      "metadata": {
        "id": "OKyVpGgGxgKr"
      }
    },
    {
      "cell_type": "markdown",
      "source": [
        "i) Presente una gráfica en la que muestre como varía el tiempo de ejecución respecto del valor de `ns`. Solo para los cinco últimos valores de `ns`. (0.25 ptos)"
      ],
      "metadata": {
        "id": "U5Qxi8Czxurq"
      }
    },
    {
      "cell_type": "markdown",
      "source": [
        "j) Presente una gráfica en la que muestre como varía el *speedup* respecto del valor de `ns`. Solo para los cinco primeros valores de `ns`. Considere como referencia a la función más lenta. (0.25 ptos)"
      ],
      "metadata": {
        "id": "OVk0y5Zlx1M2"
      }
    },
    {
      "cell_type": "markdown",
      "source": [
        "k) Presente una gráfica en la que muestre como varía el *speedup* respecto del valor de `ns`. Solo para los cinco primeros valores de `ns`. Considere como referencia a la función más lenta. (0.25 ptos)"
      ],
      "metadata": {
        "id": "aa8TFjo_x6e6"
      }
    },
    {
      "cell_type": "markdown",
      "source": [],
      "metadata": {
        "id": "RuGjVEcQwLOU"
      }
    },
    {
      "cell_type": "markdown",
      "source": [
        "l) Extraer las características de la memoria caché de su computador (0.5)"
      ],
      "metadata": {
        "id": "brcs0K8DhGcW"
      }
    },
    {
      "cell_type": "markdown",
      "source": [
        "m) Explique sus resultados de las implementaciones empleando conceptos de memoria caché. (3.5 ptos)"
      ],
      "metadata": {
        "id": "Oy4frmA72KMu"
      }
    }
  ]
}